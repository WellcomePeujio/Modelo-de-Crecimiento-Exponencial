{
  "nbformat": 4,
  "nbformat_minor": 0,
  "metadata": {
    "colab": {
      "private_outputs": true,
      "provenance": [],
      "authorship_tag": "ABX9TyNPN1/lGLK297i8gRKcFaYa",
      "include_colab_link": true
    },
    "kernelspec": {
      "name": "python3",
      "display_name": "Python 3"
    },
    "language_info": {
      "name": "python"
    }
  },
  "cells": [
    {
      "cell_type": "markdown",
      "metadata": {
        "id": "view-in-github",
        "colab_type": "text"
      },
      "source": [
        "<a href=\"https://colab.research.google.com/github/WellcomePeujio/Modelo-de-Crecimiento-Exponencial/blob/main/Modelo_de_Crecimiento_Exponencial.ipynb\" target=\"_parent\"><img src=\"https://colab.research.google.com/assets/colab-badge.svg\" alt=\"Open In Colab\"/></a>"
      ]
    },
    {
      "cell_type": "markdown",
      "source": [
        "# Modelo de Crecimiento Exponencial\n",
        "\n",
        "\n",
        "Un virus se propaga de manera exponencial, duplicando el número de infectados cada 3 días. Si al inicio hay 100 infectados, ¿cuántos habrá después de 30 días?\n",
        "\n",
        "## Preguntas:\n",
        "\n",
        "1. **¿Cuál es la fórmula que modela el crecimiento de los infectados?**\n",
        "\n",
        "2. **¿Cuántos infectados habrá al cabo de 30 días?**"
      ],
      "metadata": {
        "id": "QhFLsQMT8pS4"
      }
    },
    {
      "cell_type": "markdown",
      "source": [
        "# Resolución Matemática: Modelo de Crecimiento Exponencial\n",
        "\n",
        "## Datos del problema\n",
        "\n",
        "- **Número inicial de infectados (P₀):** 100\n",
        "- **Duplicación cada:** 3 días\n",
        "- **Tiempo total (t):** 30 días\n",
        "\n",
        "## 1. Fórmula del Crecimiento Exponencial\n",
        "\n",
        "La fórmula general para modelar el crecimiento exponencial es:\n",
        "\n",
        "$$\n",
        "P(t) = P_0 \\times 2^{\\frac{t}{T}}\n",
        "$$\n",
        "\n",
        "Donde:\n",
        "- \\$( P(t) \\$) es el número de infectados en el tiempo \\$( t \\$),\n",
        "- \\$( P_0 \\$) es el número inicial de infectados,\n",
        "- \\$( T \\$) es el tiempo de duplicación (en este caso, 3 días),\n",
        "- \\$( t \\$) es el tiempo transcurrido.\n",
        "\n",
        "## 2. Cálculo del Número de Infectados después de 30 días\n",
        "\n",
        "Sustituyendo los valores conocidos:\n",
        "\n",
        "$$\n",
        "P(30) = 100 \\times 2^{\\frac{30}{3}}\n",
        "$$\n",
        "\n",
        "Simplificamos:\n",
        "\n",
        "$$\n",
        "P(30) = 100 \\times 2^{10}\n",
        "$$\n",
        "\n",
        "Calculamos \\$( 2^{10} \\$):\n",
        "\n",
        "$$\n",
        "2^{10} = 1024\n",
        "$$\n",
        "\n",
        "Entonces:\n",
        "\n",
        "$$\n",
        "P(30) = 100 \\times 1024 = 102400\n",
        "$$\n",
        "\n",
        "Por lo tanto, el número de infectados después de 30 días será **102,400**."
      ],
      "metadata": {
        "id": "Zmo_a81R9ULR"
      }
    },
    {
      "cell_type": "code",
      "source": [
        "import numpy as np\n",
        "import matplotlib.pyplot as plt\n",
        "\n",
        "# Datos del problema\n",
        "P0 = 100  # Número inicial de infectados\n",
        "T = 3  # Tiempo de duplicación en días\n",
        "t_final = 30  # Tiempo total en días\n",
        "\n",
        "# Fórmula del crecimiento exponencial\n",
        "def crecimiento_exponencial(P0, T, t):\n",
        "    return P0 * 2**(t / T)\n",
        "\n",
        "# Valores de tiempo\n",
        "t = np.arange(0, t_final + 1)\n",
        "\n",
        "# Cálculo del número de infectados a lo largo del tiempo\n",
        "infectados = crecimiento_exponencial(P0, T, t)\n",
        "\n",
        "# Mostrar el número de infectados después de 30 días\n",
        "infectados_30_dias = crecimiento_exponencial(P0, T, t_final)\n",
        "print(f\"Número de infectados después de 30 días: {infectados_30_dias:.0f}\")\n",
        "\n",
        "# Gráfica de la evolución del número de infectados\n",
        "plt.figure(figsize=(10, 6))\n",
        "plt.plot(t, infectados, label=\"Infectados\", color='blue', marker='o')\n",
        "plt.title(\"Evolución del número de infectados a lo largo del tiempo\")\n",
        "plt.xlabel(\"Días\")\n",
        "plt.ylabel(\"Número de infectados\")\n",
        "plt.grid(True)\n",
        "plt.legend()\n",
        "plt.show()"
      ],
      "metadata": {
        "id": "dvpzU6aTW4yI"
      },
      "execution_count": null,
      "outputs": []
    }
  ]
}